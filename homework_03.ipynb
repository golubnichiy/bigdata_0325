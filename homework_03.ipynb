{
 "cells": [
  {
   "cell_type": "markdown",
   "id": "db50f3c5",
   "metadata": {},
   "source": [
    "### Практическая работа №3 – Анализ тональности\n",
    "1. Загрузите датасет для проведения анализа тональности текста, необходимо использовать минимум две модели классификации.\n",
    "2. Проведите анализ данных используя Jupyter Notebook применяя методы, используемые на занятиях.\n",
    "3. Итоговый файл отправьте на электронную почту artem@golubnichij.ru с темой письма Big Data 0325\n",
    "\n"
   ]
  }
 ],
 "metadata": {
  "kernelspec": {
   "display_name": "base",
   "language": "python",
   "name": "python3"
  },
  "language_info": {
   "name": "python",
   "version": "3.11.7"
  }
 },
 "nbformat": 4,
 "nbformat_minor": 5
}
