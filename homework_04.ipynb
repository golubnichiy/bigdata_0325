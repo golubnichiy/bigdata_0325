{
 "cells": [
  {
   "cell_type": "markdown",
   "id": "4df5bf8a",
   "metadata": {},
   "source": [
    "### Практическая работа №4 – Построение рекомендательной системы\n",
    "1. Загрузите датасет для создания рекомендательной системы (cosine similarity).\n",
    "2. Проведите анализ данных используя Jupyter Notebook применяя методы, используемые на занятиях.\n",
    "3. Итоговый файл отправьте на электронную почту artem@golubnichij.ru с темой письма Big Data 0325\n"
   ]
  }
 ],
 "metadata": {
  "language_info": {
   "name": "python"
  }
 },
 "nbformat": 4,
 "nbformat_minor": 5
}
