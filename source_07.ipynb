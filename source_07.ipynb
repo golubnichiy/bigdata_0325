{
 "cells": [
  {
   "cell_type": "code",
   "execution_count": 2,
   "id": "7aefc536",
   "metadata": {},
   "outputs": [
    {
     "name": "stdout",
     "output_type": "stream",
     "text": [
      "Requirement already satisfied: nltk in /opt/anaconda3/lib/python3.11/site-packages (3.8.1)\n",
      "Requirement already satisfied: click in /opt/anaconda3/lib/python3.11/site-packages (from nltk) (8.1.7)\n",
      "Requirement already satisfied: joblib in /opt/anaconda3/lib/python3.11/site-packages (from nltk) (1.2.0)\n",
      "Requirement already satisfied: regex>=2021.8.3 in /opt/anaconda3/lib/python3.11/site-packages (from nltk) (2023.10.3)\n",
      "Requirement already satisfied: tqdm in /opt/anaconda3/lib/python3.11/site-packages (from nltk) (4.66.5)\n",
      "\n",
      "\u001b[1m[\u001b[0m\u001b[34;49mnotice\u001b[0m\u001b[1;39;49m]\u001b[0m\u001b[39;49m A new release of pip is available: \u001b[0m\u001b[31;49m24.2\u001b[0m\u001b[39;49m -> \u001b[0m\u001b[32;49m25.0.1\u001b[0m\n",
      "\u001b[1m[\u001b[0m\u001b[34;49mnotice\u001b[0m\u001b[1;39;49m]\u001b[0m\u001b[39;49m To update, run: \u001b[0m\u001b[32;49mpip install --upgrade pip\u001b[0m\n"
     ]
    }
   ],
   "source": [
    "!pip3 install nltk"
   ]
  },
  {
   "cell_type": "code",
   "execution_count": 3,
   "id": "d150400e",
   "metadata": {},
   "outputs": [],
   "source": [
    "import numpy as np\n",
    "import pandas as pd\n",
    "import re\n",
    "import nltk\n",
    "import string\n",
    "\n",
    "pd.options.mode.chained_assignment = None\n",
    "\n",
    "full_df = pd.read_csv('tweet_small.csv')"
   ]
  },
  {
   "cell_type": "code",
   "execution_count": 4,
   "id": "03a67e25",
   "metadata": {},
   "outputs": [
    {
     "data": {
      "text/html": [
       "<div>\n",
       "<style scoped>\n",
       "    .dataframe tbody tr th:only-of-type {\n",
       "        vertical-align: middle;\n",
       "    }\n",
       "\n",
       "    .dataframe tbody tr th {\n",
       "        vertical-align: top;\n",
       "    }\n",
       "\n",
       "    .dataframe thead th {\n",
       "        text-align: right;\n",
       "    }\n",
       "</style>\n",
       "<table border=\"1\" class=\"dataframe\">\n",
       "  <thead>\n",
       "    <tr style=\"text-align: right;\">\n",
       "      <th></th>\n",
       "      <th>tweet_id</th>\n",
       "      <th>author_id</th>\n",
       "      <th>inbound</th>\n",
       "      <th>created_at</th>\n",
       "      <th>text</th>\n",
       "      <th>response_tweet_id</th>\n",
       "      <th>in_response_to_tweet_id</th>\n",
       "    </tr>\n",
       "  </thead>\n",
       "  <tbody>\n",
       "    <tr>\n",
       "      <th>0</th>\n",
       "      <td>119237</td>\n",
       "      <td>105834</td>\n",
       "      <td>True</td>\n",
       "      <td>Wed Oct 11 06:55:44 +0000 2017</td>\n",
       "      <td>@AppleSupport causing the reply to be disregar...</td>\n",
       "      <td>119236</td>\n",
       "      <td>NaN</td>\n",
       "    </tr>\n",
       "    <tr>\n",
       "      <th>1</th>\n",
       "      <td>119238</td>\n",
       "      <td>ChaseSupport</td>\n",
       "      <td>False</td>\n",
       "      <td>Wed Oct 11 13:25:49 +0000 2017</td>\n",
       "      <td>@105835 Your business means a lot to us. Pleas...</td>\n",
       "      <td>NaN</td>\n",
       "      <td>119239.0</td>\n",
       "    </tr>\n",
       "    <tr>\n",
       "      <th>2</th>\n",
       "      <td>119239</td>\n",
       "      <td>105835</td>\n",
       "      <td>True</td>\n",
       "      <td>Wed Oct 11 13:00:09 +0000 2017</td>\n",
       "      <td>@76328 I really hope you all change but I'm su...</td>\n",
       "      <td>119238</td>\n",
       "      <td>NaN</td>\n",
       "    </tr>\n",
       "    <tr>\n",
       "      <th>3</th>\n",
       "      <td>119240</td>\n",
       "      <td>VirginTrains</td>\n",
       "      <td>False</td>\n",
       "      <td>Tue Oct 10 15:16:08 +0000 2017</td>\n",
       "      <td>@105836 LiveChat is online at the moment - htt...</td>\n",
       "      <td>119241</td>\n",
       "      <td>119242.0</td>\n",
       "    </tr>\n",
       "    <tr>\n",
       "      <th>4</th>\n",
       "      <td>119241</td>\n",
       "      <td>105836</td>\n",
       "      <td>True</td>\n",
       "      <td>Tue Oct 10 15:17:21 +0000 2017</td>\n",
       "      <td>@VirginTrains see attached error message. I've...</td>\n",
       "      <td>119243</td>\n",
       "      <td>119240.0</td>\n",
       "    </tr>\n",
       "  </tbody>\n",
       "</table>\n",
       "</div>"
      ],
      "text/plain": [
       "   tweet_id     author_id  inbound                      created_at  \\\n",
       "0    119237        105834     True  Wed Oct 11 06:55:44 +0000 2017   \n",
       "1    119238  ChaseSupport    False  Wed Oct 11 13:25:49 +0000 2017   \n",
       "2    119239        105835     True  Wed Oct 11 13:00:09 +0000 2017   \n",
       "3    119240  VirginTrains    False  Tue Oct 10 15:16:08 +0000 2017   \n",
       "4    119241        105836     True  Tue Oct 10 15:17:21 +0000 2017   \n",
       "\n",
       "                                                text response_tweet_id  \\\n",
       "0  @AppleSupport causing the reply to be disregar...            119236   \n",
       "1  @105835 Your business means a lot to us. Pleas...               NaN   \n",
       "2  @76328 I really hope you all change but I'm su...            119238   \n",
       "3  @105836 LiveChat is online at the moment - htt...            119241   \n",
       "4  @VirginTrains see attached error message. I've...            119243   \n",
       "\n",
       "   in_response_to_tweet_id  \n",
       "0                      NaN  \n",
       "1                 119239.0  \n",
       "2                      NaN  \n",
       "3                 119242.0  \n",
       "4                 119240.0  "
      ]
     },
     "execution_count": 4,
     "metadata": {},
     "output_type": "execute_result"
    }
   ],
   "source": [
    "full_df.head()"
   ]
  },
  {
   "cell_type": "code",
   "execution_count": 5,
   "id": "62ade910",
   "metadata": {},
   "outputs": [
    {
     "name": "stdout",
     "output_type": "stream",
     "text": [
      "<class 'pandas.core.frame.DataFrame'>\n",
      "RangeIndex: 93 entries, 0 to 92\n",
      "Data columns (total 1 columns):\n",
      " #   Column  Non-Null Count  Dtype \n",
      "---  ------  --------------  ----- \n",
      " 0   text    93 non-null     object\n",
      "dtypes: object(1)\n",
      "memory usage: 876.0+ bytes\n"
     ]
    }
   ],
   "source": [
    "df = full_df[['text']]\n",
    "df.info()"
   ]
  },
  {
   "cell_type": "code",
   "execution_count": 6,
   "id": "a2b03664",
   "metadata": {},
   "outputs": [
    {
     "name": "stdout",
     "output_type": "stream",
     "text": [
      "                                                 text\n",
      "0   @AppleSupport causing the reply to be disregar...\n",
      "1   @105835 Your business means a lot to us. Pleas...\n",
      "2   @76328 I really hope you all change but I'm su...\n",
      "3   @105836 LiveChat is online at the moment - htt...\n",
      "4   @VirginTrains see attached error message. I've...\n",
      "..                                                ...\n",
      "88  @105860 I wish Amazon had an option of where I...\n",
      "89  They reschedule my shit for tomorrow https://t...\n",
      "90  @105861 Hey Sara, sorry to hear of the issues ...\n",
      "91  @Tesco bit of both - finding the layout cumber...\n",
      "92  @105861 If that doesn't help please DM your fu...\n",
      "\n",
      "[93 rows x 1 columns]\n"
     ]
    }
   ],
   "source": [
    "print(df) # Apple == apple"
   ]
  },
  {
   "cell_type": "markdown",
   "id": "de6ba324",
   "metadata": {},
   "source": [
    "### Перевод к нижнему регистру"
   ]
  },
  {
   "cell_type": "code",
   "execution_count": 7,
   "id": "9d8c6907",
   "metadata": {},
   "outputs": [
    {
     "name": "stdout",
     "output_type": "stream",
     "text": [
      "                                                 text  \\\n",
      "0   @AppleSupport causing the reply to be disregar...   \n",
      "1   @105835 Your business means a lot to us. Pleas...   \n",
      "2   @76328 I really hope you all change but I'm su...   \n",
      "3   @105836 LiveChat is online at the moment - htt...   \n",
      "4   @VirginTrains see attached error message. I've...   \n",
      "..                                                ...   \n",
      "88  @105860 I wish Amazon had an option of where I...   \n",
      "89  They reschedule my shit for tomorrow https://t...   \n",
      "90  @105861 Hey Sara, sorry to hear of the issues ...   \n",
      "91  @Tesco bit of both - finding the layout cumber...   \n",
      "92  @105861 If that doesn't help please DM your fu...   \n",
      "\n",
      "                                           text_lower  \n",
      "0   @applesupport causing the reply to be disregar...  \n",
      "1   @105835 your business means a lot to us. pleas...  \n",
      "2   @76328 i really hope you all change but i'm su...  \n",
      "3   @105836 livechat is online at the moment - htt...  \n",
      "4   @virgintrains see attached error message. i've...  \n",
      "..                                                ...  \n",
      "88  @105860 i wish amazon had an option of where i...  \n",
      "89  they reschedule my shit for tomorrow https://t...  \n",
      "90  @105861 hey sara, sorry to hear of the issues ...  \n",
      "91  @tesco bit of both - finding the layout cumber...  \n",
      "92  @105861 if that doesn't help please dm your fu...  \n",
      "\n",
      "[93 rows x 2 columns]\n"
     ]
    }
   ],
   "source": [
    "df['text_lower'] = df['text'].str.lower()\n",
    "print(df)"
   ]
  },
  {
   "cell_type": "markdown",
   "id": "12823dbc",
   "metadata": {},
   "source": [
    "### Удаление пунктуации"
   ]
  },
  {
   "cell_type": "code",
   "execution_count": 8,
   "id": "b3ae1e9b",
   "metadata": {},
   "outputs": [
    {
     "data": {
      "text/html": [
       "<div>\n",
       "<style scoped>\n",
       "    .dataframe tbody tr th:only-of-type {\n",
       "        vertical-align: middle;\n",
       "    }\n",
       "\n",
       "    .dataframe tbody tr th {\n",
       "        vertical-align: top;\n",
       "    }\n",
       "\n",
       "    .dataframe thead th {\n",
       "        text-align: right;\n",
       "    }\n",
       "</style>\n",
       "<table border=\"1\" class=\"dataframe\">\n",
       "  <thead>\n",
       "    <tr style=\"text-align: right;\">\n",
       "      <th></th>\n",
       "      <th>text</th>\n",
       "      <th>text_lower</th>\n",
       "      <th>text_wo_punct</th>\n",
       "    </tr>\n",
       "  </thead>\n",
       "  <tbody>\n",
       "    <tr>\n",
       "      <th>0</th>\n",
       "      <td>@AppleSupport causing the reply to be disregar...</td>\n",
       "      <td>@applesupport causing the reply to be disregar...</td>\n",
       "      <td>applesupport causing the reply to be disregard...</td>\n",
       "    </tr>\n",
       "    <tr>\n",
       "      <th>1</th>\n",
       "      <td>@105835 Your business means a lot to us. Pleas...</td>\n",
       "      <td>@105835 your business means a lot to us. pleas...</td>\n",
       "      <td>105835 your business means a lot to us please ...</td>\n",
       "    </tr>\n",
       "    <tr>\n",
       "      <th>2</th>\n",
       "      <td>@76328 I really hope you all change but I'm su...</td>\n",
       "      <td>@76328 i really hope you all change but i'm su...</td>\n",
       "      <td>76328 i really hope you all change but im sure...</td>\n",
       "    </tr>\n",
       "    <tr>\n",
       "      <th>3</th>\n",
       "      <td>@105836 LiveChat is online at the moment - htt...</td>\n",
       "      <td>@105836 livechat is online at the moment - htt...</td>\n",
       "      <td>105836 livechat is online at the moment  https...</td>\n",
       "    </tr>\n",
       "    <tr>\n",
       "      <th>4</th>\n",
       "      <td>@VirginTrains see attached error message. I've...</td>\n",
       "      <td>@virgintrains see attached error message. i've...</td>\n",
       "      <td>virgintrains see attached error message ive tr...</td>\n",
       "    </tr>\n",
       "    <tr>\n",
       "      <th>5</th>\n",
       "      <td>@105836 Have you tried from another device, Mi...</td>\n",
       "      <td>@105836 have you tried from another device, mi...</td>\n",
       "      <td>105836 have you tried from another device miri...</td>\n",
       "    </tr>\n",
       "    <tr>\n",
       "      <th>6</th>\n",
       "      <td>@VirginTrains yep, I've tried laptop too sever...</td>\n",
       "      <td>@virgintrains yep, i've tried laptop too sever...</td>\n",
       "      <td>virgintrains yep ive tried laptop too several ...</td>\n",
       "    </tr>\n",
       "    <tr>\n",
       "      <th>7</th>\n",
       "      <td>@105836 It's working OK from here, Miriam. Doe...</td>\n",
       "      <td>@105836 it's working ok from here, miriam. doe...</td>\n",
       "      <td>105836 its working ok from here miriam does th...</td>\n",
       "    </tr>\n",
       "    <tr>\n",
       "      <th>8</th>\n",
       "      <td>@VirginTrains I still haven't heard &amp;amp; the ...</td>\n",
       "      <td>@virgintrains i still haven't heard &amp;amp; the ...</td>\n",
       "      <td>virgintrains i still havent heard amp the numb...</td>\n",
       "    </tr>\n",
       "    <tr>\n",
       "      <th>9</th>\n",
       "      <td>@105836 That's what we're here for Miriam 😊  T...</td>\n",
       "      <td>@105836 that's what we're here for miriam 😊  t...</td>\n",
       "      <td>105836 thats what were here for miriam 😊  the ...</td>\n",
       "    </tr>\n",
       "  </tbody>\n",
       "</table>\n",
       "</div>"
      ],
      "text/plain": [
       "                                                text  \\\n",
       "0  @AppleSupport causing the reply to be disregar...   \n",
       "1  @105835 Your business means a lot to us. Pleas...   \n",
       "2  @76328 I really hope you all change but I'm su...   \n",
       "3  @105836 LiveChat is online at the moment - htt...   \n",
       "4  @VirginTrains see attached error message. I've...   \n",
       "5  @105836 Have you tried from another device, Mi...   \n",
       "6  @VirginTrains yep, I've tried laptop too sever...   \n",
       "7  @105836 It's working OK from here, Miriam. Doe...   \n",
       "8  @VirginTrains I still haven't heard &amp; the ...   \n",
       "9  @105836 That's what we're here for Miriam 😊  T...   \n",
       "\n",
       "                                          text_lower  \\\n",
       "0  @applesupport causing the reply to be disregar...   \n",
       "1  @105835 your business means a lot to us. pleas...   \n",
       "2  @76328 i really hope you all change but i'm su...   \n",
       "3  @105836 livechat is online at the moment - htt...   \n",
       "4  @virgintrains see attached error message. i've...   \n",
       "5  @105836 have you tried from another device, mi...   \n",
       "6  @virgintrains yep, i've tried laptop too sever...   \n",
       "7  @105836 it's working ok from here, miriam. doe...   \n",
       "8  @virgintrains i still haven't heard &amp; the ...   \n",
       "9  @105836 that's what we're here for miriam 😊  t...   \n",
       "\n",
       "                                       text_wo_punct  \n",
       "0  applesupport causing the reply to be disregard...  \n",
       "1  105835 your business means a lot to us please ...  \n",
       "2  76328 i really hope you all change but im sure...  \n",
       "3  105836 livechat is online at the moment  https...  \n",
       "4  virgintrains see attached error message ive tr...  \n",
       "5  105836 have you tried from another device miri...  \n",
       "6  virgintrains yep ive tried laptop too several ...  \n",
       "7  105836 its working ok from here miriam does th...  \n",
       "8  virgintrains i still havent heard amp the numb...  \n",
       "9  105836 thats what were here for miriam 😊  the ...  "
      ]
     },
     "execution_count": 8,
     "metadata": {},
     "output_type": "execute_result"
    }
   ],
   "source": [
    "PUNCT_TO_REMOVE = string.punctuation\n",
    "def remove_punct(text):\n",
    "    return text.translate(str.maketrans('', '', PUNCT_TO_REMOVE))\n",
    "\n",
    "df['text_wo_punct'] = df['text_lower'].apply(remove_punct)\n",
    "df.head(10)"
   ]
  },
  {
   "cell_type": "markdown",
   "id": "8971e6aa",
   "metadata": {},
   "source": [
    "### Удаление стоп-слов"
   ]
  },
  {
   "cell_type": "code",
   "execution_count": 9,
   "id": "e6a4e6dc",
   "metadata": {},
   "outputs": [
    {
     "name": "stdout",
     "output_type": "stream",
     "text": [
      "a, about, above, after, again, against, ain, all, am, an, and, any, are, aren, aren't, as, at, be, because, been, before, being, below, between, both, but, by, can, couldn, couldn't, d, did, didn, didn't, do, does, doesn, doesn't, doing, don, don't, down, during, each, few, for, from, further, had, hadn, hadn't, has, hasn, hasn't, have, haven, haven't, having, he, he'd, he'll, her, here, hers, herself, he's, him, himself, his, how, i, i'd, if, i'll, i'm, in, into, is, isn, isn't, it, it'd, it'll, it's, its, itself, i've, just, ll, m, ma, me, mightn, mightn't, more, most, mustn, mustn't, my, myself, needn, needn't, no, nor, not, now, o, of, off, on, once, only, or, other, our, ours, ourselves, out, over, own, re, s, same, shan, shan't, she, she'd, she'll, she's, should, shouldn, shouldn't, should've, so, some, such, t, than, that, that'll, the, their, theirs, them, themselves, then, there, these, they, they'd, they'll, they're, they've, this, those, through, to, too, under, until, up, ve, very, was, wasn, wasn't, we, we'd, we'll, we're, were, weren, weren't, we've, what, when, where, which, while, who, whom, why, will, with, won, won't, wouldn, wouldn't, y, you, you'd, you'll, your, you're, yours, yourself, yourselves, you've\n"
     ]
    },
    {
     "name": "stderr",
     "output_type": "stream",
     "text": [
      "[nltk_data] Downloading package stopwords to\n",
      "[nltk_data]     /Users/artemgolubnichiy/nltk_data...\n",
      "[nltk_data]   Package stopwords is already up-to-date!\n"
     ]
    }
   ],
   "source": [
    "from nltk.corpus import stopwords\n",
    "nltk.download('stopwords')\n",
    "print(', '.join(stopwords.words('english')))"
   ]
  },
  {
   "cell_type": "code",
   "execution_count": 10,
   "id": "0bbbeeea",
   "metadata": {},
   "outputs": [
    {
     "data": {
      "text/html": [
       "<div>\n",
       "<style scoped>\n",
       "    .dataframe tbody tr th:only-of-type {\n",
       "        vertical-align: middle;\n",
       "    }\n",
       "\n",
       "    .dataframe tbody tr th {\n",
       "        vertical-align: top;\n",
       "    }\n",
       "\n",
       "    .dataframe thead th {\n",
       "        text-align: right;\n",
       "    }\n",
       "</style>\n",
       "<table border=\"1\" class=\"dataframe\">\n",
       "  <thead>\n",
       "    <tr style=\"text-align: right;\">\n",
       "      <th></th>\n",
       "      <th>text</th>\n",
       "      <th>text_lower</th>\n",
       "      <th>text_wo_punct</th>\n",
       "      <th>text_wo_stop</th>\n",
       "    </tr>\n",
       "  </thead>\n",
       "  <tbody>\n",
       "    <tr>\n",
       "      <th>0</th>\n",
       "      <td>@AppleSupport causing the reply to be disregar...</td>\n",
       "      <td>@applesupport causing the reply to be disregar...</td>\n",
       "      <td>applesupport causing the reply to be disregard...</td>\n",
       "      <td>applesupport causing reply disregarded tapped ...</td>\n",
       "    </tr>\n",
       "    <tr>\n",
       "      <th>1</th>\n",
       "      <td>@105835 Your business means a lot to us. Pleas...</td>\n",
       "      <td>@105835 your business means a lot to us. pleas...</td>\n",
       "      <td>105835 your business means a lot to us please ...</td>\n",
       "      <td>105835 business means lot us please dm name zi...</td>\n",
       "    </tr>\n",
       "    <tr>\n",
       "      <th>2</th>\n",
       "      <td>@76328 I really hope you all change but I'm su...</td>\n",
       "      <td>@76328 i really hope you all change but i'm su...</td>\n",
       "      <td>76328 i really hope you all change but im sure...</td>\n",
       "      <td>76328 really hope change im sure wont dont</td>\n",
       "    </tr>\n",
       "    <tr>\n",
       "      <th>3</th>\n",
       "      <td>@105836 LiveChat is online at the moment - htt...</td>\n",
       "      <td>@105836 livechat is online at the moment - htt...</td>\n",
       "      <td>105836 livechat is online at the moment  https...</td>\n",
       "      <td>105836 livechat online moment  httpstcosy94vtu...</td>\n",
       "    </tr>\n",
       "    <tr>\n",
       "      <th>4</th>\n",
       "      <td>@VirginTrains see attached error message. I've...</td>\n",
       "      <td>@virgintrains see attached error message. i've...</td>\n",
       "      <td>virgintrains see attached error message ive tr...</td>\n",
       "      <td>virgintrains see attached error message ive tr...</td>\n",
       "    </tr>\n",
       "  </tbody>\n",
       "</table>\n",
       "</div>"
      ],
      "text/plain": [
       "                                                text  \\\n",
       "0  @AppleSupport causing the reply to be disregar...   \n",
       "1  @105835 Your business means a lot to us. Pleas...   \n",
       "2  @76328 I really hope you all change but I'm su...   \n",
       "3  @105836 LiveChat is online at the moment - htt...   \n",
       "4  @VirginTrains see attached error message. I've...   \n",
       "\n",
       "                                          text_lower  \\\n",
       "0  @applesupport causing the reply to be disregar...   \n",
       "1  @105835 your business means a lot to us. pleas...   \n",
       "2  @76328 i really hope you all change but i'm su...   \n",
       "3  @105836 livechat is online at the moment - htt...   \n",
       "4  @virgintrains see attached error message. i've...   \n",
       "\n",
       "                                       text_wo_punct  \\\n",
       "0  applesupport causing the reply to be disregard...   \n",
       "1  105835 your business means a lot to us please ...   \n",
       "2  76328 i really hope you all change but im sure...   \n",
       "3  105836 livechat is online at the moment  https...   \n",
       "4  virgintrains see attached error message ive tr...   \n",
       "\n",
       "                                        text_wo_stop  \n",
       "0  applesupport causing reply disregarded tapped ...  \n",
       "1  105835 business means lot us please dm name zi...  \n",
       "2         76328 really hope change im sure wont dont  \n",
       "3  105836 livechat online moment  httpstcosy94vtu...  \n",
       "4  virgintrains see attached error message ive tr...  "
      ]
     },
     "execution_count": 10,
     "metadata": {},
     "output_type": "execute_result"
    }
   ],
   "source": [
    "STOPWORDS = set(stopwords.words('english'))\n",
    "def remove_stopwords(text):\n",
    "    return ' '.join([word for word in str(text).split(' ') if word not in STOPWORDS])\n",
    "\n",
    "\n",
    "df['text_wo_stop'] = df['text_wo_punct'].apply(remove_stopwords)\n",
    "df.head()"
   ]
  },
  {
   "cell_type": "markdown",
   "id": "d995df78",
   "metadata": {},
   "source": [
    "### Удаление частых слов"
   ]
  },
  {
   "cell_type": "code",
   "execution_count": 11,
   "id": "c3b4eab4",
   "metadata": {},
   "outputs": [
    {
     "data": {
      "text/plain": [
       "[('us', 25),\n",
       " ('dm', 19),\n",
       " ('help', 18),\n",
       " ('thanks', 13),\n",
       " ('httpstcogdrqu22ypt', 12),\n",
       " ('applesupport', 11),\n",
       " ('please', 11),\n",
       " ('phone', 9),\n",
       " ('hi', 9),\n",
       " ('ive', 8)]"
      ]
     },
     "execution_count": 11,
     "metadata": {},
     "output_type": "execute_result"
    }
   ],
   "source": [
    "from collections import Counter\n",
    "cnt = Counter()\n",
    "for text in df['text_wo_stop'].values:\n",
    "    for word in text.split():\n",
    "        cnt[word] += 1\n",
    "\n",
    "cnt.most_common(10)"
   ]
  },
  {
   "cell_type": "code",
   "execution_count": 12,
   "id": "4dfd049c",
   "metadata": {},
   "outputs": [
    {
     "data": {
      "text/html": [
       "<div>\n",
       "<style scoped>\n",
       "    .dataframe tbody tr th:only-of-type {\n",
       "        vertical-align: middle;\n",
       "    }\n",
       "\n",
       "    .dataframe tbody tr th {\n",
       "        vertical-align: top;\n",
       "    }\n",
       "\n",
       "    .dataframe thead th {\n",
       "        text-align: right;\n",
       "    }\n",
       "</style>\n",
       "<table border=\"1\" class=\"dataframe\">\n",
       "  <thead>\n",
       "    <tr style=\"text-align: right;\">\n",
       "      <th></th>\n",
       "      <th>text</th>\n",
       "      <th>text_lower</th>\n",
       "      <th>text_wo_punct</th>\n",
       "      <th>text_wo_stop</th>\n",
       "      <th>text_wo_stop_freq</th>\n",
       "    </tr>\n",
       "  </thead>\n",
       "  <tbody>\n",
       "    <tr>\n",
       "      <th>0</th>\n",
       "      <td>@AppleSupport causing the reply to be disregar...</td>\n",
       "      <td>@applesupport causing the reply to be disregar...</td>\n",
       "      <td>applesupport causing the reply to be disregard...</td>\n",
       "      <td>applesupport causing reply disregarded tapped ...</td>\n",
       "      <td>causing reply disregarded tapped notification ...</td>\n",
       "    </tr>\n",
       "    <tr>\n",
       "      <th>1</th>\n",
       "      <td>@105835 Your business means a lot to us. Pleas...</td>\n",
       "      <td>@105835 your business means a lot to us. pleas...</td>\n",
       "      <td>105835 your business means a lot to us please ...</td>\n",
       "      <td>105835 business means lot us please dm name zi...</td>\n",
       "      <td>105835 business means lot name zip code additi...</td>\n",
       "    </tr>\n",
       "    <tr>\n",
       "      <th>2</th>\n",
       "      <td>@76328 I really hope you all change but I'm su...</td>\n",
       "      <td>@76328 i really hope you all change but i'm su...</td>\n",
       "      <td>76328 i really hope you all change but im sure...</td>\n",
       "      <td>76328 really hope change im sure wont dont</td>\n",
       "      <td>76328 really hope change im sure wont dont</td>\n",
       "    </tr>\n",
       "    <tr>\n",
       "      <th>3</th>\n",
       "      <td>@105836 LiveChat is online at the moment - htt...</td>\n",
       "      <td>@105836 livechat is online at the moment - htt...</td>\n",
       "      <td>105836 livechat is online at the moment  https...</td>\n",
       "      <td>105836 livechat online moment  httpstcosy94vtu...</td>\n",
       "      <td>105836 livechat online moment  httpstcosy94vtu...</td>\n",
       "    </tr>\n",
       "    <tr>\n",
       "      <th>4</th>\n",
       "      <td>@VirginTrains see attached error message. I've...</td>\n",
       "      <td>@virgintrains see attached error message. i've...</td>\n",
       "      <td>virgintrains see attached error message ive tr...</td>\n",
       "      <td>virgintrains see attached error message ive tr...</td>\n",
       "      <td>virgintrains see attached error message tried ...</td>\n",
       "    </tr>\n",
       "  </tbody>\n",
       "</table>\n",
       "</div>"
      ],
      "text/plain": [
       "                                                text  \\\n",
       "0  @AppleSupport causing the reply to be disregar...   \n",
       "1  @105835 Your business means a lot to us. Pleas...   \n",
       "2  @76328 I really hope you all change but I'm su...   \n",
       "3  @105836 LiveChat is online at the moment - htt...   \n",
       "4  @VirginTrains see attached error message. I've...   \n",
       "\n",
       "                                          text_lower  \\\n",
       "0  @applesupport causing the reply to be disregar...   \n",
       "1  @105835 your business means a lot to us. pleas...   \n",
       "2  @76328 i really hope you all change but i'm su...   \n",
       "3  @105836 livechat is online at the moment - htt...   \n",
       "4  @virgintrains see attached error message. i've...   \n",
       "\n",
       "                                       text_wo_punct  \\\n",
       "0  applesupport causing the reply to be disregard...   \n",
       "1  105835 your business means a lot to us please ...   \n",
       "2  76328 i really hope you all change but im sure...   \n",
       "3  105836 livechat is online at the moment  https...   \n",
       "4  virgintrains see attached error message ive tr...   \n",
       "\n",
       "                                        text_wo_stop  \\\n",
       "0  applesupport causing reply disregarded tapped ...   \n",
       "1  105835 business means lot us please dm name zi...   \n",
       "2         76328 really hope change im sure wont dont   \n",
       "3  105836 livechat online moment  httpstcosy94vtu...   \n",
       "4  virgintrains see attached error message ive tr...   \n",
       "\n",
       "                                   text_wo_stop_freq  \n",
       "0  causing reply disregarded tapped notification ...  \n",
       "1  105835 business means lot name zip code additi...  \n",
       "2         76328 really hope change im sure wont dont  \n",
       "3  105836 livechat online moment  httpstcosy94vtu...  \n",
       "4  virgintrains see attached error message tried ...  "
      ]
     },
     "execution_count": 12,
     "metadata": {},
     "output_type": "execute_result"
    }
   ],
   "source": [
    "FREQWORDS = set([w for (w,s) in cnt.most_common(10)])\n",
    "\n",
    "def remove_freqwords(text):\n",
    "    return ' '.join([word for word in str(text).split(' ') if word not in FREQWORDS])\n",
    "\n",
    "df['text_wo_stop_freq'] = df['text_wo_stop'].apply(remove_freqwords)\n",
    "df.head()"
   ]
  },
  {
   "cell_type": "markdown",
   "id": "1be7fe82",
   "metadata": {},
   "source": [
    "### Удаление редких слов"
   ]
  },
  {
   "cell_type": "code",
   "execution_count": 13,
   "id": "699483a6",
   "metadata": {},
   "outputs": [
    {
     "data": {
      "text/plain": [
       "{'browser',\n",
       " 'green',\n",
       " 'httpstco9281okeebk',\n",
       " 'including',\n",
       " 'keen',\n",
       " 'lee',\n",
       " 'line',\n",
       " 'log',\n",
       " 'slowdown',\n",
       " 'thin'}"
      ]
     },
     "execution_count": 13,
     "metadata": {},
     "output_type": "execute_result"
    }
   ],
   "source": [
    "n_rare_words = 10\n",
    "RAREWORDS = set([w for (w,s) in cnt.most_common()[:-n_rare_words-1:-1]])\n",
    "RAREWORDS"
   ]
  },
  {
   "cell_type": "code",
   "execution_count": 14,
   "id": "a3487173",
   "metadata": {},
   "outputs": [
    {
     "data": {
      "text/html": [
       "<div>\n",
       "<style scoped>\n",
       "    .dataframe tbody tr th:only-of-type {\n",
       "        vertical-align: middle;\n",
       "    }\n",
       "\n",
       "    .dataframe tbody tr th {\n",
       "        vertical-align: top;\n",
       "    }\n",
       "\n",
       "    .dataframe thead th {\n",
       "        text-align: right;\n",
       "    }\n",
       "</style>\n",
       "<table border=\"1\" class=\"dataframe\">\n",
       "  <thead>\n",
       "    <tr style=\"text-align: right;\">\n",
       "      <th></th>\n",
       "      <th>text</th>\n",
       "      <th>text_lower</th>\n",
       "      <th>text_wo_punct</th>\n",
       "      <th>text_wo_stop</th>\n",
       "      <th>text_wo_stop_freq</th>\n",
       "      <th>text_wo_stop_freq_rare</th>\n",
       "    </tr>\n",
       "  </thead>\n",
       "  <tbody>\n",
       "    <tr>\n",
       "      <th>0</th>\n",
       "      <td>@AppleSupport causing the reply to be disregar...</td>\n",
       "      <td>@applesupport causing the reply to be disregar...</td>\n",
       "      <td>applesupport causing the reply to be disregard...</td>\n",
       "      <td>applesupport causing reply disregarded tapped ...</td>\n",
       "      <td>causing reply disregarded tapped notification ...</td>\n",
       "      <td>causing reply disregarded tapped notification ...</td>\n",
       "    </tr>\n",
       "    <tr>\n",
       "      <th>1</th>\n",
       "      <td>@105835 Your business means a lot to us. Pleas...</td>\n",
       "      <td>@105835 your business means a lot to us. pleas...</td>\n",
       "      <td>105835 your business means a lot to us please ...</td>\n",
       "      <td>105835 business means lot us please dm name zi...</td>\n",
       "      <td>105835 business means lot name zip code additi...</td>\n",
       "      <td>105835 business means lot name zip code additi...</td>\n",
       "    </tr>\n",
       "    <tr>\n",
       "      <th>2</th>\n",
       "      <td>@76328 I really hope you all change but I'm su...</td>\n",
       "      <td>@76328 i really hope you all change but i'm su...</td>\n",
       "      <td>76328 i really hope you all change but im sure...</td>\n",
       "      <td>76328 really hope change im sure wont dont</td>\n",
       "      <td>76328 really hope change im sure wont dont</td>\n",
       "      <td>76328 really hope change im sure wont dont</td>\n",
       "    </tr>\n",
       "    <tr>\n",
       "      <th>3</th>\n",
       "      <td>@105836 LiveChat is online at the moment - htt...</td>\n",
       "      <td>@105836 livechat is online at the moment - htt...</td>\n",
       "      <td>105836 livechat is online at the moment  https...</td>\n",
       "      <td>105836 livechat online moment  httpstcosy94vtu...</td>\n",
       "      <td>105836 livechat online moment  httpstcosy94vtu...</td>\n",
       "      <td>105836 livechat online moment  httpstcosy94vtu...</td>\n",
       "    </tr>\n",
       "    <tr>\n",
       "      <th>4</th>\n",
       "      <td>@VirginTrains see attached error message. I've...</td>\n",
       "      <td>@virgintrains see attached error message. i've...</td>\n",
       "      <td>virgintrains see attached error message ive tr...</td>\n",
       "      <td>virgintrains see attached error message ive tr...</td>\n",
       "      <td>virgintrains see attached error message tried ...</td>\n",
       "      <td>virgintrains see attached error message tried ...</td>\n",
       "    </tr>\n",
       "  </tbody>\n",
       "</table>\n",
       "</div>"
      ],
      "text/plain": [
       "                                                text  \\\n",
       "0  @AppleSupport causing the reply to be disregar...   \n",
       "1  @105835 Your business means a lot to us. Pleas...   \n",
       "2  @76328 I really hope you all change but I'm su...   \n",
       "3  @105836 LiveChat is online at the moment - htt...   \n",
       "4  @VirginTrains see attached error message. I've...   \n",
       "\n",
       "                                          text_lower  \\\n",
       "0  @applesupport causing the reply to be disregar...   \n",
       "1  @105835 your business means a lot to us. pleas...   \n",
       "2  @76328 i really hope you all change but i'm su...   \n",
       "3  @105836 livechat is online at the moment - htt...   \n",
       "4  @virgintrains see attached error message. i've...   \n",
       "\n",
       "                                       text_wo_punct  \\\n",
       "0  applesupport causing the reply to be disregard...   \n",
       "1  105835 your business means a lot to us please ...   \n",
       "2  76328 i really hope you all change but im sure...   \n",
       "3  105836 livechat is online at the moment  https...   \n",
       "4  virgintrains see attached error message ive tr...   \n",
       "\n",
       "                                        text_wo_stop  \\\n",
       "0  applesupport causing reply disregarded tapped ...   \n",
       "1  105835 business means lot us please dm name zi...   \n",
       "2         76328 really hope change im sure wont dont   \n",
       "3  105836 livechat online moment  httpstcosy94vtu...   \n",
       "4  virgintrains see attached error message ive tr...   \n",
       "\n",
       "                                   text_wo_stop_freq  \\\n",
       "0  causing reply disregarded tapped notification ...   \n",
       "1  105835 business means lot name zip code additi...   \n",
       "2         76328 really hope change im sure wont dont   \n",
       "3  105836 livechat online moment  httpstcosy94vtu...   \n",
       "4  virgintrains see attached error message tried ...   \n",
       "\n",
       "                              text_wo_stop_freq_rare  \n",
       "0  causing reply disregarded tapped notification ...  \n",
       "1  105835 business means lot name zip code additi...  \n",
       "2         76328 really hope change im sure wont dont  \n",
       "3  105836 livechat online moment  httpstcosy94vtu...  \n",
       "4  virgintrains see attached error message tried ...  "
      ]
     },
     "execution_count": 14,
     "metadata": {},
     "output_type": "execute_result"
    }
   ],
   "source": [
    "def remove_rarewords(text):\n",
    "    return ' '.join([word for word in str(text).split(' ') if word not in RAREWORDS])\n",
    "\n",
    "df['text_wo_stop_freq_rare'] = df['text_wo_stop_freq'].apply(remove_rarewords)\n",
    "df.head()"
   ]
  },
  {
   "cell_type": "markdown",
   "id": "99fdac42",
   "metadata": {},
   "source": [
    "### Стемминг"
   ]
  },
  {
   "cell_type": "code",
   "execution_count": 15,
   "id": "52584bd3",
   "metadata": {},
   "outputs": [],
   "source": [
    "df.drop(['text_lower', 'text_wo_punct', 'text_wo_stop', 'text_wo_stop_freq'], axis=1, inplace=True)"
   ]
  },
  {
   "cell_type": "code",
   "execution_count": 16,
   "id": "b7bdeec7",
   "metadata": {},
   "outputs": [
    {
     "data": {
      "text/html": [
       "<div>\n",
       "<style scoped>\n",
       "    .dataframe tbody tr th:only-of-type {\n",
       "        vertical-align: middle;\n",
       "    }\n",
       "\n",
       "    .dataframe tbody tr th {\n",
       "        vertical-align: top;\n",
       "    }\n",
       "\n",
       "    .dataframe thead th {\n",
       "        text-align: right;\n",
       "    }\n",
       "</style>\n",
       "<table border=\"1\" class=\"dataframe\">\n",
       "  <thead>\n",
       "    <tr style=\"text-align: right;\">\n",
       "      <th></th>\n",
       "      <th>text</th>\n",
       "      <th>text_wo_stop_freq_rare</th>\n",
       "    </tr>\n",
       "  </thead>\n",
       "  <tbody>\n",
       "    <tr>\n",
       "      <th>0</th>\n",
       "      <td>@AppleSupport causing the reply to be disregar...</td>\n",
       "      <td>causing reply disregarded tapped notification ...</td>\n",
       "    </tr>\n",
       "    <tr>\n",
       "      <th>1</th>\n",
       "      <td>@105835 Your business means a lot to us. Pleas...</td>\n",
       "      <td>105835 business means lot name zip code additi...</td>\n",
       "    </tr>\n",
       "    <tr>\n",
       "      <th>2</th>\n",
       "      <td>@76328 I really hope you all change but I'm su...</td>\n",
       "      <td>76328 really hope change im sure wont dont</td>\n",
       "    </tr>\n",
       "    <tr>\n",
       "      <th>3</th>\n",
       "      <td>@105836 LiveChat is online at the moment - htt...</td>\n",
       "      <td>105836 livechat online moment  httpstcosy94vtu...</td>\n",
       "    </tr>\n",
       "    <tr>\n",
       "      <th>4</th>\n",
       "      <td>@VirginTrains see attached error message. I've...</td>\n",
       "      <td>virgintrains see attached error message tried ...</td>\n",
       "    </tr>\n",
       "  </tbody>\n",
       "</table>\n",
       "</div>"
      ],
      "text/plain": [
       "                                                text  \\\n",
       "0  @AppleSupport causing the reply to be disregar...   \n",
       "1  @105835 Your business means a lot to us. Pleas...   \n",
       "2  @76328 I really hope you all change but I'm su...   \n",
       "3  @105836 LiveChat is online at the moment - htt...   \n",
       "4  @VirginTrains see attached error message. I've...   \n",
       "\n",
       "                              text_wo_stop_freq_rare  \n",
       "0  causing reply disregarded tapped notification ...  \n",
       "1  105835 business means lot name zip code additi...  \n",
       "2         76328 really hope change im sure wont dont  \n",
       "3  105836 livechat online moment  httpstcosy94vtu...  \n",
       "4  virgintrains see attached error message tried ...  "
      ]
     },
     "execution_count": 16,
     "metadata": {},
     "output_type": "execute_result"
    }
   ],
   "source": [
    "df.head()"
   ]
  },
  {
   "cell_type": "code",
   "execution_count": 17,
   "id": "1783864c",
   "metadata": {},
   "outputs": [
    {
     "data": {
      "text/html": [
       "<div>\n",
       "<style scoped>\n",
       "    .dataframe tbody tr th:only-of-type {\n",
       "        vertical-align: middle;\n",
       "    }\n",
       "\n",
       "    .dataframe tbody tr th {\n",
       "        vertical-align: top;\n",
       "    }\n",
       "\n",
       "    .dataframe thead th {\n",
       "        text-align: right;\n",
       "    }\n",
       "</style>\n",
       "<table border=\"1\" class=\"dataframe\">\n",
       "  <thead>\n",
       "    <tr style=\"text-align: right;\">\n",
       "      <th></th>\n",
       "      <th>text</th>\n",
       "      <th>text_wo_stop_freq_rare</th>\n",
       "      <th>text_stemmed</th>\n",
       "    </tr>\n",
       "  </thead>\n",
       "  <tbody>\n",
       "    <tr>\n",
       "      <th>0</th>\n",
       "      <td>@AppleSupport causing the reply to be disregar...</td>\n",
       "      <td>causing reply disregarded tapped notification ...</td>\n",
       "      <td>caus repli disregard tap notif keyboard opened😡😡😡</td>\n",
       "    </tr>\n",
       "    <tr>\n",
       "      <th>1</th>\n",
       "      <td>@105835 Your business means a lot to us. Pleas...</td>\n",
       "      <td>105835 business means lot name zip code additi...</td>\n",
       "      <td>105835 busi mean lot name zip code addit detai...</td>\n",
       "    </tr>\n",
       "    <tr>\n",
       "      <th>2</th>\n",
       "      <td>@76328 I really hope you all change but I'm su...</td>\n",
       "      <td>76328 really hope change im sure wont dont</td>\n",
       "      <td>76328 realli hope chang im sure wont dont</td>\n",
       "    </tr>\n",
       "    <tr>\n",
       "      <th>3</th>\n",
       "      <td>@105836 LiveChat is online at the moment - htt...</td>\n",
       "      <td>105836 livechat online moment  httpstcosy94vtu...</td>\n",
       "      <td>105836 livechat onlin moment httpstcosy94vtu8k...</td>\n",
       "    </tr>\n",
       "    <tr>\n",
       "      <th>4</th>\n",
       "      <td>@VirginTrains see attached error message. I've...</td>\n",
       "      <td>virgintrains see attached error message tried ...</td>\n",
       "      <td>virgintrain see attach error messag tri leav v...</td>\n",
       "    </tr>\n",
       "  </tbody>\n",
       "</table>\n",
       "</div>"
      ],
      "text/plain": [
       "                                                text  \\\n",
       "0  @AppleSupport causing the reply to be disregar...   \n",
       "1  @105835 Your business means a lot to us. Pleas...   \n",
       "2  @76328 I really hope you all change but I'm su...   \n",
       "3  @105836 LiveChat is online at the moment - htt...   \n",
       "4  @VirginTrains see attached error message. I've...   \n",
       "\n",
       "                              text_wo_stop_freq_rare  \\\n",
       "0  causing reply disregarded tapped notification ...   \n",
       "1  105835 business means lot name zip code additi...   \n",
       "2         76328 really hope change im sure wont dont   \n",
       "3  105836 livechat online moment  httpstcosy94vtu...   \n",
       "4  virgintrains see attached error message tried ...   \n",
       "\n",
       "                                        text_stemmed  \n",
       "0  caus repli disregard tap notif keyboard opened😡😡😡  \n",
       "1  105835 busi mean lot name zip code addit detai...  \n",
       "2          76328 realli hope chang im sure wont dont  \n",
       "3  105836 livechat onlin moment httpstcosy94vtu8k...  \n",
       "4  virgintrain see attach error messag tri leav v...  "
      ]
     },
     "execution_count": 17,
     "metadata": {},
     "output_type": "execute_result"
    }
   ],
   "source": [
    "from nltk.stem.porter import PorterStemmer\n",
    "stemmer = PorterStemmer()\n",
    "\n",
    "def stem_words(text):\n",
    "    return ' '.join([stemmer.stem(word) for word in text.split()])\n",
    "\n",
    "df['text_stemmed'] = df['text_wo_stop_freq_rare'].apply(stem_words)\n",
    "df.head()"
   ]
  },
  {
   "cell_type": "markdown",
   "id": "48c09f48",
   "metadata": {},
   "source": [
    "### Обработка русского языка"
   ]
  },
  {
   "cell_type": "code",
   "execution_count": 18,
   "id": "212346ba",
   "metadata": {},
   "outputs": [
    {
     "name": "stdout",
     "output_type": "stream",
     "text": [
      "рентгеноэлектрокардиографическ\n",
      "трансцендентн\n",
      "автостеклоподъемник\n",
      "электростеклоподъемник\n",
      "длинноше\n",
      "урегулирован\n",
      "воспользова\n",
      "сиреневеньк\n",
      "переосвидетельствова\n",
      "человеконенавистничеств\n",
      "высокопревосходительств\n",
      "защища\n"
     ]
    }
   ],
   "source": [
    "from nltk.stem.snowball import SnowballStemmer\n",
    "stemmer = SnowballStemmer('russian')\n",
    "wrds = ['рентгеноэлектрокардиографический', 'трансцендентный', 'автостеклоподъемники',  'электростеклоподъемники', 'длинношеее', 'урегулирование',\n",
    "'воспользовавшийся', 'сиреневенький', 'переосвидетельствовать', 'человеконенавистничество', 'высокопревосходительство',\n",
    "'защищающихся']\n",
    "for w in wrds:\n",
    "    print(stemmer.stem(w))"
   ]
  },
  {
   "cell_type": "markdown",
   "id": "c507d38a",
   "metadata": {},
   "source": [
    "### Лемматизация"
   ]
  },
  {
   "cell_type": "code",
   "execution_count": 22,
   "id": "2e615b4f",
   "metadata": {},
   "outputs": [
    {
     "name": "stderr",
     "output_type": "stream",
     "text": [
      "[nltk_data] Downloading package wordnet to\n",
      "[nltk_data]     /Users/artemgolubnichiy/nltk_data...\n",
      "[nltk_data]   Package wordnet is already up-to-date!\n"
     ]
    },
    {
     "data": {
      "text/html": [
       "<div>\n",
       "<style scoped>\n",
       "    .dataframe tbody tr th:only-of-type {\n",
       "        vertical-align: middle;\n",
       "    }\n",
       "\n",
       "    .dataframe tbody tr th {\n",
       "        vertical-align: top;\n",
       "    }\n",
       "\n",
       "    .dataframe thead th {\n",
       "        text-align: right;\n",
       "    }\n",
       "</style>\n",
       "<table border=\"1\" class=\"dataframe\">\n",
       "  <thead>\n",
       "    <tr style=\"text-align: right;\">\n",
       "      <th></th>\n",
       "      <th>text</th>\n",
       "      <th>text_wo_stop_freq_rare</th>\n",
       "      <th>text_stemmed</th>\n",
       "      <th>text_lemmatized</th>\n",
       "    </tr>\n",
       "  </thead>\n",
       "  <tbody>\n",
       "    <tr>\n",
       "      <th>0</th>\n",
       "      <td>@AppleSupport causing the reply to be disregar...</td>\n",
       "      <td>causing reply disregarded tapped notification ...</td>\n",
       "      <td>caus repli disregard tap notif keyboard opened😡😡😡</td>\n",
       "      <td>@AppleSupport causing the reply to be disregar...</td>\n",
       "    </tr>\n",
       "    <tr>\n",
       "      <th>1</th>\n",
       "      <td>@105835 Your business means a lot to us. Pleas...</td>\n",
       "      <td>105835 business means lot name zip code additi...</td>\n",
       "      <td>105835 busi mean lot name zip code addit detai...</td>\n",
       "      <td>@105835 Your business mean a lot to us. Please...</td>\n",
       "    </tr>\n",
       "    <tr>\n",
       "      <th>2</th>\n",
       "      <td>@76328 I really hope you all change but I'm su...</td>\n",
       "      <td>76328 really hope change im sure wont dont</td>\n",
       "      <td>76328 realli hope chang im sure wont dont</td>\n",
       "      <td>@76328 I really hope you all change but I'm su...</td>\n",
       "    </tr>\n",
       "    <tr>\n",
       "      <th>3</th>\n",
       "      <td>@105836 LiveChat is online at the moment - htt...</td>\n",
       "      <td>105836 livechat online moment  httpstcosy94vtu...</td>\n",
       "      <td>105836 livechat onlin moment httpstcosy94vtu8k...</td>\n",
       "      <td>@105836 LiveChat is online at the moment - htt...</td>\n",
       "    </tr>\n",
       "    <tr>\n",
       "      <th>4</th>\n",
       "      <td>@VirginTrains see attached error message. I've...</td>\n",
       "      <td>virgintrains see attached error message tried ...</td>\n",
       "      <td>virgintrain see attach error messag tri leav v...</td>\n",
       "      <td>@VirginTrains see attached error message. I've...</td>\n",
       "    </tr>\n",
       "    <tr>\n",
       "      <th>5</th>\n",
       "      <td>@105836 Have you tried from another device, Mi...</td>\n",
       "      <td>105836 tried another device miriam mm</td>\n",
       "      <td>105836 tri anoth devic miriam mm</td>\n",
       "      <td>@105836 Have you tried from another device, Mi...</td>\n",
       "    </tr>\n",
       "    <tr>\n",
       "      <th>6</th>\n",
       "      <td>@VirginTrains yep, I've tried laptop too sever...</td>\n",
       "      <td>virgintrains yep tried laptop several times pa...</td>\n",
       "      <td>virgintrain yep tri laptop sever time past wee...</td>\n",
       "      <td>@VirginTrains yep, I've tried laptop too sever...</td>\n",
       "    </tr>\n",
       "    <tr>\n",
       "      <th>7</th>\n",
       "      <td>@105836 It's working OK from here, Miriam. Doe...</td>\n",
       "      <td>105836 working ok miriam link httpstco0m2mph15...</td>\n",
       "      <td>105836 work ok miriam link httpstco0m2mph15eh mm</td>\n",
       "      <td>@105836 It's working OK from here, Miriam. Doe...</td>\n",
       "    </tr>\n",
       "    <tr>\n",
       "      <th>8</th>\n",
       "      <td>@VirginTrains I still haven't heard &amp;amp; the ...</td>\n",
       "      <td>virgintrains still havent heard amp number im ...</td>\n",
       "      <td>virgintrain still havent heard amp number im d...</td>\n",
       "      <td>@VirginTrains I still haven't heard &amp;amp; the ...</td>\n",
       "    </tr>\n",
       "    <tr>\n",
       "      <th>9</th>\n",
       "      <td>@105836 That's what we're here for Miriam 😊  T...</td>\n",
       "      <td>105836 thats miriam 😊  team send email shortly hp</td>\n",
       "      <td>105836 that miriam 😊 team send email shortli hp</td>\n",
       "      <td>@105836 That's what we're here for Miriam 😊 Th...</td>\n",
       "    </tr>\n",
       "  </tbody>\n",
       "</table>\n",
       "</div>"
      ],
      "text/plain": [
       "                                                text  \\\n",
       "0  @AppleSupport causing the reply to be disregar...   \n",
       "1  @105835 Your business means a lot to us. Pleas...   \n",
       "2  @76328 I really hope you all change but I'm su...   \n",
       "3  @105836 LiveChat is online at the moment - htt...   \n",
       "4  @VirginTrains see attached error message. I've...   \n",
       "5  @105836 Have you tried from another device, Mi...   \n",
       "6  @VirginTrains yep, I've tried laptop too sever...   \n",
       "7  @105836 It's working OK from here, Miriam. Doe...   \n",
       "8  @VirginTrains I still haven't heard &amp; the ...   \n",
       "9  @105836 That's what we're here for Miriam 😊  T...   \n",
       "\n",
       "                              text_wo_stop_freq_rare  \\\n",
       "0  causing reply disregarded tapped notification ...   \n",
       "1  105835 business means lot name zip code additi...   \n",
       "2         76328 really hope change im sure wont dont   \n",
       "3  105836 livechat online moment  httpstcosy94vtu...   \n",
       "4  virgintrains see attached error message tried ...   \n",
       "5              105836 tried another device miriam mm   \n",
       "6  virgintrains yep tried laptop several times pa...   \n",
       "7  105836 working ok miriam link httpstco0m2mph15...   \n",
       "8  virgintrains still havent heard amp number im ...   \n",
       "9  105836 thats miriam 😊  team send email shortly hp   \n",
       "\n",
       "                                        text_stemmed  \\\n",
       "0  caus repli disregard tap notif keyboard opened😡😡😡   \n",
       "1  105835 busi mean lot name zip code addit detai...   \n",
       "2          76328 realli hope chang im sure wont dont   \n",
       "3  105836 livechat onlin moment httpstcosy94vtu8k...   \n",
       "4  virgintrain see attach error messag tri leav v...   \n",
       "5                   105836 tri anoth devic miriam mm   \n",
       "6  virgintrain yep tri laptop sever time past wee...   \n",
       "7   105836 work ok miriam link httpstco0m2mph15eh mm   \n",
       "8  virgintrain still havent heard amp number im d...   \n",
       "9    105836 that miriam 😊 team send email shortli hp   \n",
       "\n",
       "                                     text_lemmatized  \n",
       "0  @AppleSupport causing the reply to be disregar...  \n",
       "1  @105835 Your business mean a lot to us. Please...  \n",
       "2  @76328 I really hope you all change but I'm su...  \n",
       "3  @105836 LiveChat is online at the moment - htt...  \n",
       "4  @VirginTrains see attached error message. I've...  \n",
       "5  @105836 Have you tried from another device, Mi...  \n",
       "6  @VirginTrains yep, I've tried laptop too sever...  \n",
       "7  @105836 It's working OK from here, Miriam. Doe...  \n",
       "8  @VirginTrains I still haven't heard &amp; the ...  \n",
       "9  @105836 That's what we're here for Miriam 😊 Th...  "
      ]
     },
     "execution_count": 22,
     "metadata": {},
     "output_type": "execute_result"
    }
   ],
   "source": [
    "from nltk.stem import WordNetLemmatizer\n",
    "nltk.download('wordnet')\n",
    "lemmatizer = WordNetLemmatizer()\n",
    "\n",
    "def lemmatize_words(text):\n",
    "    return ' '.join([lemmatizer.lemmatize(word) for word in text.split()])\n",
    "\n",
    "df['text_lemmatized'] = df['text'].apply(lemmatize_words)\n",
    "df.head(10)"
   ]
  },
  {
   "cell_type": "code",
   "execution_count": 25,
   "id": "8711d86f",
   "metadata": {},
   "outputs": [
    {
     "data": {
      "text/html": [
       "<div>\n",
       "<style scoped>\n",
       "    .dataframe tbody tr th:only-of-type {\n",
       "        vertical-align: middle;\n",
       "    }\n",
       "\n",
       "    .dataframe tbody tr th {\n",
       "        vertical-align: top;\n",
       "    }\n",
       "\n",
       "    .dataframe thead th {\n",
       "        text-align: right;\n",
       "    }\n",
       "</style>\n",
       "<table border=\"1\" class=\"dataframe\">\n",
       "  <thead>\n",
       "    <tr style=\"text-align: right;\">\n",
       "      <th></th>\n",
       "      <th>text</th>\n",
       "      <th>text_wo_stop_freq_rare</th>\n",
       "      <th>text_stemmed</th>\n",
       "      <th>text_lemmatized</th>\n",
       "      <th>eq</th>\n",
       "    </tr>\n",
       "  </thead>\n",
       "  <tbody>\n",
       "    <tr>\n",
       "      <th>0</th>\n",
       "      <td>@AppleSupport causing the reply to be disregar...</td>\n",
       "      <td>causing reply disregarded tapped notification ...</td>\n",
       "      <td>caus repli disregard tap notif keyboard opened😡😡😡</td>\n",
       "      <td>@AppleSupport causing the reply to be disregar...</td>\n",
       "      <td>True</td>\n",
       "    </tr>\n",
       "    <tr>\n",
       "      <th>1</th>\n",
       "      <td>@105835 Your business means a lot to us. Pleas...</td>\n",
       "      <td>105835 business means lot name zip code additi...</td>\n",
       "      <td>105835 busi mean lot name zip code addit detai...</td>\n",
       "      <td>@105835 Your business mean a lot to us. Please...</td>\n",
       "      <td>False</td>\n",
       "    </tr>\n",
       "    <tr>\n",
       "      <th>2</th>\n",
       "      <td>@76328 I really hope you all change but I'm su...</td>\n",
       "      <td>76328 really hope change im sure wont dont</td>\n",
       "      <td>76328 realli hope chang im sure wont dont</td>\n",
       "      <td>@76328 I really hope you all change but I'm su...</td>\n",
       "      <td>True</td>\n",
       "    </tr>\n",
       "    <tr>\n",
       "      <th>3</th>\n",
       "      <td>@105836 LiveChat is online at the moment - htt...</td>\n",
       "      <td>105836 livechat online moment  httpstcosy94vtu...</td>\n",
       "      <td>105836 livechat onlin moment httpstcosy94vtu8k...</td>\n",
       "      <td>@105836 LiveChat is online at the moment - htt...</td>\n",
       "      <td>True</td>\n",
       "    </tr>\n",
       "    <tr>\n",
       "      <th>4</th>\n",
       "      <td>@VirginTrains see attached error message. I've...</td>\n",
       "      <td>virgintrains see attached error message tried ...</td>\n",
       "      <td>virgintrain see attach error messag tri leav v...</td>\n",
       "      <td>@VirginTrains see attached error message. I've...</td>\n",
       "      <td>False</td>\n",
       "    </tr>\n",
       "    <tr>\n",
       "      <th>5</th>\n",
       "      <td>@105836 Have you tried from another device, Mi...</td>\n",
       "      <td>105836 tried another device miriam mm</td>\n",
       "      <td>105836 tri anoth devic miriam mm</td>\n",
       "      <td>@105836 Have you tried from another device, Mi...</td>\n",
       "      <td>True</td>\n",
       "    </tr>\n",
       "    <tr>\n",
       "      <th>6</th>\n",
       "      <td>@VirginTrains yep, I've tried laptop too sever...</td>\n",
       "      <td>virgintrains yep tried laptop several times pa...</td>\n",
       "      <td>virgintrain yep tri laptop sever time past wee...</td>\n",
       "      <td>@VirginTrains yep, I've tried laptop too sever...</td>\n",
       "      <td>False</td>\n",
       "    </tr>\n",
       "    <tr>\n",
       "      <th>7</th>\n",
       "      <td>@105836 It's working OK from here, Miriam. Doe...</td>\n",
       "      <td>105836 working ok miriam link httpstco0m2mph15...</td>\n",
       "      <td>105836 work ok miriam link httpstco0m2mph15eh mm</td>\n",
       "      <td>@105836 It's working OK from here, Miriam. Doe...</td>\n",
       "      <td>True</td>\n",
       "    </tr>\n",
       "    <tr>\n",
       "      <th>8</th>\n",
       "      <td>@VirginTrains I still haven't heard &amp;amp; the ...</td>\n",
       "      <td>virgintrains still havent heard amp number im ...</td>\n",
       "      <td>virgintrain still havent heard amp number im d...</td>\n",
       "      <td>@VirginTrains I still haven't heard &amp;amp; the ...</td>\n",
       "      <td>True</td>\n",
       "    </tr>\n",
       "    <tr>\n",
       "      <th>9</th>\n",
       "      <td>@105836 That's what we're here for Miriam 😊  T...</td>\n",
       "      <td>105836 thats miriam 😊  team send email shortly hp</td>\n",
       "      <td>105836 that miriam 😊 team send email shortli hp</td>\n",
       "      <td>@105836 That's what we're here for Miriam 😊 Th...</td>\n",
       "      <td>False</td>\n",
       "    </tr>\n",
       "  </tbody>\n",
       "</table>\n",
       "</div>"
      ],
      "text/plain": [
       "                                                text  \\\n",
       "0  @AppleSupport causing the reply to be disregar...   \n",
       "1  @105835 Your business means a lot to us. Pleas...   \n",
       "2  @76328 I really hope you all change but I'm su...   \n",
       "3  @105836 LiveChat is online at the moment - htt...   \n",
       "4  @VirginTrains see attached error message. I've...   \n",
       "5  @105836 Have you tried from another device, Mi...   \n",
       "6  @VirginTrains yep, I've tried laptop too sever...   \n",
       "7  @105836 It's working OK from here, Miriam. Doe...   \n",
       "8  @VirginTrains I still haven't heard &amp; the ...   \n",
       "9  @105836 That's what we're here for Miriam 😊  T...   \n",
       "\n",
       "                              text_wo_stop_freq_rare  \\\n",
       "0  causing reply disregarded tapped notification ...   \n",
       "1  105835 business means lot name zip code additi...   \n",
       "2         76328 really hope change im sure wont dont   \n",
       "3  105836 livechat online moment  httpstcosy94vtu...   \n",
       "4  virgintrains see attached error message tried ...   \n",
       "5              105836 tried another device miriam mm   \n",
       "6  virgintrains yep tried laptop several times pa...   \n",
       "7  105836 working ok miriam link httpstco0m2mph15...   \n",
       "8  virgintrains still havent heard amp number im ...   \n",
       "9  105836 thats miriam 😊  team send email shortly hp   \n",
       "\n",
       "                                        text_stemmed  \\\n",
       "0  caus repli disregard tap notif keyboard opened😡😡😡   \n",
       "1  105835 busi mean lot name zip code addit detai...   \n",
       "2          76328 realli hope chang im sure wont dont   \n",
       "3  105836 livechat onlin moment httpstcosy94vtu8k...   \n",
       "4  virgintrain see attach error messag tri leav v...   \n",
       "5                   105836 tri anoth devic miriam mm   \n",
       "6  virgintrain yep tri laptop sever time past wee...   \n",
       "7   105836 work ok miriam link httpstco0m2mph15eh mm   \n",
       "8  virgintrain still havent heard amp number im d...   \n",
       "9    105836 that miriam 😊 team send email shortli hp   \n",
       "\n",
       "                                     text_lemmatized     eq  \n",
       "0  @AppleSupport causing the reply to be disregar...   True  \n",
       "1  @105835 Your business mean a lot to us. Please...  False  \n",
       "2  @76328 I really hope you all change but I'm su...   True  \n",
       "3  @105836 LiveChat is online at the moment - htt...   True  \n",
       "4  @VirginTrains see attached error message. I've...  False  \n",
       "5  @105836 Have you tried from another device, Mi...   True  \n",
       "6  @VirginTrains yep, I've tried laptop too sever...  False  \n",
       "7  @105836 It's working OK from here, Miriam. Doe...   True  \n",
       "8  @VirginTrains I still haven't heard &amp; the ...   True  \n",
       "9  @105836 That's what we're here for Miriam 😊 Th...  False  "
      ]
     },
     "execution_count": 25,
     "metadata": {},
     "output_type": "execute_result"
    }
   ],
   "source": [
    "df['eq'] = df['text'] == df['text_lemmatized']\n",
    "df.head(10)"
   ]
  },
  {
   "cell_type": "code",
   "execution_count": 24,
   "id": "9ae24b2e",
   "metadata": {},
   "outputs": [
    {
     "data": {
      "text/plain": [
       "'run'"
      ]
     },
     "execution_count": 24,
     "metadata": {},
     "output_type": "execute_result"
    }
   ],
   "source": [
    "lemmatizer.lemmatize('running', pos='v')"
   ]
  },
  {
   "cell_type": "markdown",
   "id": "a65d60eb",
   "metadata": {},
   "source": [
    "### Регулярные выражения"
   ]
  },
  {
   "cell_type": "markdown",
   "id": "06d3ab5c",
   "metadata": {},
   "source": [
    "#### Поиск даты"
   ]
  },
  {
   "cell_type": "code",
   "execution_count": 31,
   "id": "4dc44de9",
   "metadata": {},
   "outputs": [
    {
     "name": "stdout",
     "output_type": "stream",
     "text": [
      "<re.Match object; span=(8, 18), match='31.04.2025'>\n"
     ]
    }
   ],
   "source": [
    "import re\n",
    "text = 'сегодня 31.04.2025'\n",
    "pattern = r'(0[1-9]|[12][0-9]|3[01])\\.(0[1-9]|1[0-2])\\.(19|20)\\d{2}'\n",
    "match_date = re.search(pattern, text)\n",
    "print(match_date)\n"
   ]
  },
  {
   "cell_type": "code",
   "execution_count": 39,
   "id": "ed543fb2",
   "metadata": {},
   "outputs": [
    {
     "name": "stdout",
     "output_type": "stream",
     "text": [
      "<re.Match object; span=(20, 31), match='217.2.2.199'>\n"
     ]
    }
   ],
   "source": [
    "text = 'проверка ip адресса 217.2.2.199'\n",
    "pattern = r'(?:(?:25[0-5]|2[0-4]\\d|1\\d{2}|[1-9]?\\d)\\.){3}(?:25[0-5]|2[0-4]\\d|1\\d{2}|[1-9]?\\d)'\n",
    "match_date = re.search(pattern, text)\n",
    "print(match_date)"
   ]
  },
  {
   "cell_type": "code",
   "execution_count": 42,
   "id": "2044e1fa",
   "metadata": {},
   "outputs": [
    {
     "name": "stdout",
     "output_type": "stream",
     "text": [
      "foo\n",
      "()\n"
     ]
    }
   ],
   "source": [
    "import re\n",
    "text = \"foo123\"\n",
    "match = re.search(r\"(foo)\\d+\", text)\n",
    "print(match.group(1))  # → 'foo'\n",
    "\n",
    "\n",
    "match = re.search(r\"(?:foo)\\d+\", text)\n",
    "print(match.groups())  # → ()"
   ]
  },
  {
   "cell_type": "markdown",
   "id": "e438c51a",
   "metadata": {},
   "source": [
    "1. Найти все слова, начинающиеся с большой буквы\n",
    "2. Извлечь все email-адреса\n",
    "3. Найти все слова из 4 букв\n",
    "4. Извлечь все телефонные номера\n",
    "5. Найти все слова, содержащие только буквы\n",
    "6. Найти все числа с плавающей точкой\n",
    "7. Извлечь все доменные имена\n",
    "8. Найти все ссылки\n",
    "9. Найти все слова, где есть две одинаковые буквы подряд\n",
    "10. Найти повторяющиеся слова подряд"
   ]
  },
  {
   "cell_type": "code",
   "execution_count": 46,
   "id": "81f71db9",
   "metadata": {},
   "outputs": [
    {
     "name": "stdout",
     "output_type": "stream",
     "text": [
      "['Проверка', 'Адресса']\n"
     ]
    }
   ],
   "source": [
    "pat = r'\\b[A-ZА-Я][a-zа-яё]*\\b'\n",
    "\n",
    "text = 'Проверка IP Адресса 217.2.2.199'\n",
    "\n",
    "match_date = re.findall(pat, text)\n",
    "print(match_date)"
   ]
  },
  {
   "cell_type": "code",
   "execution_count": 47,
   "id": "e3ab53e8",
   "metadata": {},
   "outputs": [
    {
     "name": "stdout",
     "output_type": "stream",
     "text": [
      "['Артем', 'Голубничий']\n"
     ]
    }
   ],
   "source": [
    "text = \"Артем Голубничий отличный преподаватель!\"\n",
    "pattern = r'\\b[А-ЯЁ][а-яё]*\\b'\n",
    "matches = re.findall(pattern, text)\n",
    "print(matches) "
   ]
  },
  {
   "cell_type": "code",
   "execution_count": 48,
   "id": "218363ce",
   "metadata": {},
   "outputs": [
    {
     "name": "stdout",
     "output_type": "stream",
     "text": [
      "['sdsdvs@mail.ru']\n"
     ]
    }
   ],
   "source": [
    "pattern = r'[a-zA-Z0-9._-]+@[a-zA-Z0-9.-]+\\.[a-zA-Z]{2,}'\n",
    "text = \"sdsdvs@mail.ru sdsdvsmail.ru sdsdvs@mailru sdsdvs@mail.u ывсым@mail.ru\"\n",
    "matches = re.findall(pattern, text)\n",
    "print(matches) "
   ]
  },
  {
   "cell_type": "code",
   "execution_count": 50,
   "id": "402711d5",
   "metadata": {},
   "outputs": [
    {
     "name": "stdout",
     "output_type": "stream",
     "text": [
      "['слов', 'букв']\n"
     ]
    }
   ],
   "source": [
    "pattern = r'\\b\\w{4}\\b'\n",
    "text = \"Набор слов каждое из 4 букв\"\n",
    "matches = re.findall(pattern, text)\n",
    "print(matches) "
   ]
  },
  {
   "cell_type": "code",
   "execution_count": null,
   "id": "8f0f4be9",
   "metadata": {},
   "outputs": [
    {
     "name": "stdout",
     "output_type": "stream",
     "text": [
      "[]\n"
     ]
    }
   ],
   "source": [
    "pattern = r'\\+?[1-9][0-9]{6,10}'\n",
    "text = \"Текст в виде номера 9202189001 678234 89\"\n",
    "matches = re.findall(pattern, text)\n",
    "print(matches) "
   ]
  },
  {
   "cell_type": "code",
   "execution_count": 54,
   "id": "89cf77c8",
   "metadata": {},
   "outputs": [
    {
     "name": "stdout",
     "output_type": "stream",
     "text": [
      "['Текст', 'в', 'виде']\n"
     ]
    }
   ],
   "source": [
    "pattern = r'\\b[а-яА-ЯёЁa-zA-Z]+\\b'\n",
    "text = \"Текст в виде номера3 9202189001 678234 89\"\n",
    "matches = re.findall(pattern, text)\n",
    "print(matches) "
   ]
  },
  {
   "cell_type": "code",
   "execution_count": 58,
   "id": "b5af596a",
   "metadata": {},
   "outputs": [
    {
     "name": "stdout",
     "output_type": "stream",
     "text": [
      "['9202.189001', '678234.0', '-89.09', '.35', '.8']\n"
     ]
    }
   ],
   "source": [
    "pattern = r'-?\\d+\\.\\d*|\\.\\d+'\n",
    "text = \"9202.189001 678234.0 -89.09 .35 .8\"\n",
    "matches = re.findall(pattern, text)\n",
    "print(matches)"
   ]
  },
  {
   "cell_type": "code",
   "execution_count": 62,
   "id": "1c07ab6f",
   "metadata": {},
   "outputs": [
    {
     "name": "stdout",
     "output_type": "stream",
     "text": [
      "['edu.mail.ru', 'site.com', 'name.info']\n"
     ]
    }
   ],
   "source": [
    "pattern = r'[a-zA-Z0-9.-]+\\.[a-zA-Z]{2,}'\n",
    "text = \"edu.mail.ru site.com name.info\"\n",
    "matches = re.findall(pattern, text)\n",
    "print(matches)"
   ]
  },
  {
   "cell_type": "code",
   "execution_count": null,
   "id": "fa6bcb3d",
   "metadata": {},
   "outputs": [
    {
     "name": "stdout",
     "output_type": "stream",
     "text": [
      "[]\n"
     ]
    }
   ],
   "source": [
    "pattern = r'(http|https|ftp){1}:{1}/{2}(\\w+\\.)+\\w{2,3}'\n",
    "text = \"http://site.com text ftp://edu.sitw.com\"\n",
    "matches = re.findall(pattern, text)\n",
    "print(matches)"
   ]
  },
  {
   "cell_type": "code",
   "execution_count": 64,
   "id": "f71296ec",
   "metadata": {},
   "outputs": [
    {
     "name": "stdout",
     "output_type": "stream",
     "text": [
      "['а', 'о']\n"
     ]
    }
   ],
   "source": [
    "pattern = r'\\b\\w*(\\w)\\1\\w*\\b'\n",
    "text = \"Текст в виде аан роон\"\n",
    "matches = re.findall(pattern, text)\n",
    "print(matches) "
   ]
  },
  {
   "cell_type": "code",
   "execution_count": null,
   "id": "ae516e25",
   "metadata": {},
   "outputs": [
    {
     "name": "stdout",
     "output_type": "stream",
     "text": [
      "Слова с двойными буквами:\n",
      "['Молл', 'класс', 'кроссворд', 'пресс']\n"
     ]
    }
   ],
   "source": [
    "text = \"Молл, класс, стул, окно, лама, кроссворд, мама, пресс\"\n",
    "matches = re.findall(r\"\\b\\w*(\\w)\\1\\w*\\b\", text)\n",
    "print(\"Слова с двойными буквами:\")\n",
    "\n",
    "words = re.findall(r\"\\b\\w*(\\w)\\1\\w*\\b\", text)\n",
    "all_words = re.findall(r\"\\b\\w+\\b\", text)\n",
    "double_letter_words = [word for word in all_words if re.search(r\"(.)\\1\", word)]\n",
    "print(double_letter_words)"
   ]
  }
 ],
 "metadata": {
  "kernelspec": {
   "display_name": "base",
   "language": "python",
   "name": "python3"
  },
  "language_info": {
   "codemirror_mode": {
    "name": "ipython",
    "version": 3
   },
   "file_extension": ".py",
   "mimetype": "text/x-python",
   "name": "python",
   "nbconvert_exporter": "python",
   "pygments_lexer": "ipython3",
   "version": "3.11.7"
  }
 },
 "nbformat": 4,
 "nbformat_minor": 5
}
